{
 "cells": [
  {
   "cell_type": "code",
   "execution_count": 9,
   "metadata": {},
   "outputs": [
    {
     "ename": "ValueError",
     "evalue": "Undefined Mailgun domain or API key",
     "output_type": "error",
     "traceback": [
      "\u001b[0;31m---------------------------------------------------------------------------\u001b[0m",
      "\u001b[0;31mValueError\u001b[0m                                Traceback (most recent call last)",
      "Cell \u001b[0;32mIn[9], line 10\u001b[0m\n\u001b[1;32m      7\u001b[0m \u001b[39mimport\u001b[39;00m \u001b[39maiohttp\u001b[39;00m\n\u001b[1;32m      8\u001b[0m \u001b[39mimport\u001b[39;00m \u001b[39masyncio\u001b[39;00m\n\u001b[0;32m---> 10\u001b[0m \u001b[39mfrom\u001b[39;00m \u001b[39memail_sender\u001b[39;00m \u001b[39mimport\u001b[39;00m email_sender\n\u001b[1;32m     13\u001b[0m load_dotenv()\n\u001b[1;32m     14\u001b[0m connect_db()\n",
      "File \u001b[0;32m~/Documents/Neutrino/Code/JupyterSandbox/TestAnalyticsAndEmailSending/email_sender.py:109\u001b[0m\n\u001b[1;32m     85\u001b[0m \u001b[39m        \u001b[39m\u001b[39m\"\"\"\u001b[39;00m\n\u001b[1;32m     86\u001b[0m \u001b[39m        Sends an email message using the configured email provider.\u001b[39;00m\n\u001b[1;32m     87\u001b[0m \n\u001b[0;32m   (...)\u001b[0m\n\u001b[1;32m     95\u001b[0m \u001b[39m            None\u001b[39;00m\n\u001b[1;32m     96\u001b[0m \u001b[39m        \"\"\"\u001b[39;00m\n\u001b[1;32m     97\u001b[0m         requests\u001b[39m.\u001b[39mpost(\n\u001b[1;32m     98\u001b[0m             \u001b[39mf\u001b[39m\u001b[39m\"\u001b[39m\u001b[39mhttps://api.mailgun.net/v3/\u001b[39m\u001b[39m{\u001b[39;00m\u001b[39mself\u001b[39m\u001b[39m.\u001b[39mmailgun_domain\u001b[39m}\u001b[39;00m\u001b[39m/messages\u001b[39m\u001b[39m\"\u001b[39m,\n\u001b[1;32m     99\u001b[0m             auth\u001b[39m=\u001b[39m(\u001b[39m\"\u001b[39m\u001b[39mapi\u001b[39m\u001b[39m\"\u001b[39m, \u001b[39mself\u001b[39m\u001b[39m.\u001b[39mmailgun_api_key),\n\u001b[0;32m   (...)\u001b[0m\n\u001b[1;32m    105\u001b[0m             },\n\u001b[1;32m    106\u001b[0m         )\n\u001b[0;32m--> 109\u001b[0m email_sender \u001b[39m=\u001b[39m EmailSender()\n",
      "File \u001b[0;32m~/Documents/Neutrino/Code/JupyterSandbox/TestAnalyticsAndEmailSending/email_sender.py:31\u001b[0m, in \u001b[0;36mEmailSender.__init__\u001b[0;34m(self, templates_dir, mailgun_domain, mailgun_api_key)\u001b[0m\n\u001b[1;32m     28\u001b[0m \u001b[39mself\u001b[39m\u001b[39m.\u001b[39mmailgun_api_key \u001b[39m=\u001b[39m mailgun_api_key \u001b[39mor\u001b[39;00m os\u001b[39m.\u001b[39menviron\u001b[39m.\u001b[39mget(\u001b[39m'\u001b[39m\u001b[39mMAILGUN_API_KEY\u001b[39m\u001b[39m'\u001b[39m)\n\u001b[1;32m     30\u001b[0m \u001b[39mif\u001b[39;00m \u001b[39mnot\u001b[39;00m \u001b[39mself\u001b[39m\u001b[39m.\u001b[39mmailgun_domain \u001b[39mor\u001b[39;00m \u001b[39mnot\u001b[39;00m \u001b[39mself\u001b[39m\u001b[39m.\u001b[39mmailgun_api_key:\n\u001b[0;32m---> 31\u001b[0m     \u001b[39mraise\u001b[39;00m \u001b[39mValueError\u001b[39;00m(\u001b[39m\"\u001b[39m\u001b[39mUndefined Mailgun domain or API key\u001b[39m\u001b[39m\"\u001b[39m)\n\u001b[1;32m     33\u001b[0m \u001b[39m# Update the templates directory to use an absolute path\u001b[39;00m\n\u001b[1;32m     34\u001b[0m base_path \u001b[39m=\u001b[39m os\u001b[39m.\u001b[39mpath\u001b[39m.\u001b[39mdirname(os\u001b[39m.\u001b[39mpath\u001b[39m.\u001b[39mabspath(\u001b[39m__file__\u001b[39m))\n",
      "\u001b[0;31mValueError\u001b[0m: Undefined Mailgun domain or API key"
     ]
    }
   ],
   "source": [
    "from mongoengine import DynamicDocument, QuerySet\n",
    "from dotenv import load_dotenv\n",
    "from db_connection import connect_db\n",
    "import json\n",
    "from typing import Generator\n",
    "from datetime import datetime, timedelta\n",
    "import aiohttp\n",
    "import asyncio\n",
    "\n",
    "from email_sender import email_sender\n",
    "\n",
    "\n",
    "load_dotenv()\n",
    "connect_db()"
   ]
  },
  {
   "cell_type": "code",
   "execution_count": null,
   "metadata": {},
   "outputs": [],
   "source": [
    "class User(DynamicDocument):\n",
    "    meta = {'collection': 'user'}"
   ]
  },
  {
   "cell_type": "code",
   "execution_count": null,
   "metadata": {},
   "outputs": [],
   "source": [
    "def get_all_users() -> Generator[str, None, None]:\n",
    "    try:\n",
    "        users: QuerySet = User.objects()\n",
    "        for user in users:\n",
    "            yield user.to_json()\n",
    "    except Exception as e:\n",
    "        print(f\"An error occurred: {e}\")"
   ]
  },
  {
   "cell_type": "markdown",
   "metadata": {},
   "source": [
    "### Scheduled Daily Activity Email Report\n",
    "The following code is scheduled to run at 10 am IST every day to send you an email report calculating the new daily active users and newly created users"
   ]
  },
  {
   "cell_type": "code",
   "execution_count": null,
   "metadata": {},
   "outputs": [],
   "source": [
    "\"\"\"\n",
    "@SCHEDULE\n",
    "cron: 0 30 4 * * *\n",
    "\"\"\"\n",
    "try:\n",
    "    data_list = [json.loads(data) for data in get_all_users()]\n",
    "    past_day = datetime.now() - timedelta(days=1)\n",
    "\n",
    "    # Filter out all users created within the past 24 hours\n",
    "    new_users = [\n",
    "        user for user in data_list if datetime.fromtimestamp(user['created_at']['$date'] / 1000) > past_day\n",
    "    ]\n",
    "\n",
    "    # Daily active users\n",
    "    active_users = [\n",
    "        user for user in data_list if datetime.fromtimestamp(user['last_login']['$date'] / 1000) > past_day\n",
    "    ]\n",
    "\n",
    "    num_new_users = len(new_users)\n",
    "    num_active_users = len(active_users)\n",
    "\n",
    "    subject = f\"Daily User Report: {num_new_users} new users, {num_active_users} daily active users\"\n",
    "    body = f\"\"\"<html><body>\n",
    "               Total new users in the past 24 hours: {num_new_users}<br>\n",
    "               Total daily active users in the past 24 hours: {num_active_users}\n",
    "               </body></html>\"\"\"\n",
    "    \n",
    "    email_sender.send_email(\n",
    "        source=\"ReportBot<report-bot@mydomain.com>\",\n",
    "        recipients=[\"your_email@example.com\"],\n",
    "        subject=subject,\n",
    "        body=body\n",
    "    )\n",
    "    print(\"Sent report email\")\n",
    "except Exception as e:\n",
    "    print(\"Error: \", e)"
   ]
  },
  {
   "cell_type": "markdown",
   "metadata": {},
   "source": [
    "### Scheduled Health Checks\n",
    "The following code is run every 3 minutes to perform a scheduled health check and send an alert email if the site is down or returns an unexpected status code.  \n",
    "If the ping fails, it will retry a specified number of times to ensure the website is actually down."
   ]
  },
  {
   "cell_type": "code",
   "execution_count": 14,
   "metadata": {},
   "outputs": [],
   "source": [
    "\"\"\"\n",
    "@SCHEDULE\n",
    "interval: 3m\n",
    "\"\"\"\n",
    "async def scheduled_health_check():\n",
    "    website_url = \"https://www.yourwebsite.com\"\n",
    "    retries = 3\n",
    "    retry_interval = 10  # in seconds\n",
    "\n",
    "    async with aiohttp.ClientSession() as session:  # Ensuring the session context stays open for retries\n",
    "        for i in range(retries):\n",
    "            try:\n",
    "                async with session.get(website_url) as response:\n",
    "                    if response.status == 200:\n",
    "                        print(f\"{datetime.now()} - Website is up.\")\n",
    "                        return\n",
    "                    else:\n",
    "                        print(\n",
    "                            f\"{datetime.now()} - Unexpected response: {response.status}\"\n",
    "                        )\n",
    "            except aiohttp.ClientError as e:\n",
    "                print(f\"{datetime.now()} - Request failed. Error: {e}\")\n",
    "\n",
    "            if i < retries:  # No need to sleep after the last try\n",
    "                await asyncio.sleep(retry_interval)\n",
    "\n",
    "        print(f\"{datetime.now()} - All retries failed, sending failure report\")\n",
    "        try:\n",
    "            subject = \"URGENT: Your website is down!\"\n",
    "            body = \"\"\"<html><body>Your website is currently down. All retries failed.</body></html>\"\"\"\n",
    "            email_sender.send_email(\n",
    "                source=\"ReportBot<report-bot@mydomain.com>\",\n",
    "                recipients=[\"your_email@example.com\"],\n",
    "                subject=subject,\n",
    "                body=body,\n",
    "            )\n",
    "            print(f\"{datetime.now()} - Sent alert email.\")\n",
    "        except Exception as e:  # A more specific exception is preferable\n",
    "            print(f\"{datetime.now()} - Error in sending email: {e}\")"
   ]
  }
 ],
 "metadata": {
  "kernelspec": {
   "display_name": "Python 3.11.0 64-bit",
   "language": "python",
   "name": "python3"
  },
  "language_info": {
   "codemirror_mode": {
    "name": "ipython",
    "version": 3
   },
   "file_extension": ".py",
   "mimetype": "text/x-python",
   "name": "python",
   "nbconvert_exporter": "python",
   "pygments_lexer": "ipython3",
   "version": "3.11.0"
  },
  "orig_nbformat": 4,
  "vscode": {
   "interpreter": {
    "hash": "aee8b7b246df8f9039afb4144a1f6fd8d2ca17a180786b69acc140d282b71a49"
   }
  }
 },
 "nbformat": 4,
 "nbformat_minor": 2
}
